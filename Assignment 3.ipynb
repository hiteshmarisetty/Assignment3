{
 "cells": [
  {
   "cell_type": "markdown",
   "id": "f31968d1",
   "metadata": {},
   "source": [
    "1. Why are functions advantageous to have in your programs?\n",
    "\n",
    "Functions reduce the need for duplicate code.\n",
    "2. When does the code in a function run: when it's specified or when it's called?\n",
    "When a function is \"called\" the program \"leaves\" the current section of code and begins to execute the first line inside the function.\n",
    "3. What statement creates a function?\n",
    "The “def” keyword is a statement for defining a function in Python. You start a function with the def keyword, specify a name followed by a colon (:) sign. The “def” call creates the function object and assigns it to the name given. You can further re-assign the same function object to other names.\n",
    "4. What is the difference between a function and a function call?\n",
    "A function is a block of code that does a particular operation and returns a result. It usually accepts inputs as parameters and returns a result. The parameters are not mandatory. A function call is the code used to pass control to a function.\n",
    "5. How many global scopes are there in a Python program? How many local scopes?\n",
    "There's only one global Python scope per program execution. This scope remains in existence until the program terminates and all its names are forgotten.\n",
    "6. What happens to variables in a local scope when the function call returns?\n",
    "When the execution of the function terminates (returns), the local variables are destroyed. Codelens helps you visualize this because the local variables disappear after the function returns.\n",
    "7. What is the concept of a return value? Is it possible to have a return value in an expression?\n",
    "In general, a function takes arguments (if any), performs some operations, and returns a value (or object). The value that a function returns to the caller is generally known as the function's return value.\n",
    "8. If a function does not have a return statement, what is the return value of a call to that function?\n",
    "A function without an explicit return statement returns None . In the case of no arguments and no return value, the definition is very simple. Calling the function is performed by using the call operator () after the name of the function.\n",
    "9. How do you make a function variable refer to the global variable?\n",
    "If you want to refer to a global variable in a function, you can use the global keyword to declare which variables are global.\n",
    "10. What is the data type of None?\n",
    "The None keyword is used to define a null value, or no value at all. None is not the same as 0, False, or an empty string. None is a data type of its own (NoneType) and only None can be None.\n",
    "11. What does the sentence import areallyourpetsnamederic do?\n",
    "What does the import areallyourpetsnamederic statement do? That import statement imports a module named areallyourpetsnamederic. (This isn't a real Python module, by the way.) \n",
    "12. If you had a bacon() feature in a spam module, what would you call it after importing spam?\n",
    "If you had a function named bacon() in a module named spam, how would you call it after importing spam?\n",
    "13. What can you do to save a programme from crashing if it encounters an error?\n",
    "we have to  move our code inside a try and except statement. Try running the program and it should throw an error message instead of crashing the program\n",
    "14. What is the purpose of the try clause? What is the purpose of the except clause?\n",
    "The try block lets you test a block of code for errors. The except block lets you handle the error."
   ]
  },
  {
   "cell_type": "markdown",
   "id": "29b2c4c3",
   "metadata": {},
   "source": []
  },
  {
   "cell_type": "markdown",
   "id": "969b92e9",
   "metadata": {},
   "source": []
  },
  {
   "cell_type": "code",
   "execution_count": null,
   "id": "72d23a68",
   "metadata": {},
   "outputs": [],
   "source": []
  },
  {
   "cell_type": "code",
   "execution_count": null,
   "id": "56cd41b4",
   "metadata": {},
   "outputs": [],
   "source": []
  },
  {
   "cell_type": "code",
   "execution_count": null,
   "id": "a674f55f",
   "metadata": {},
   "outputs": [],
   "source": []
  },
  {
   "cell_type": "code",
   "execution_count": null,
   "id": "fc1f736f",
   "metadata": {},
   "outputs": [],
   "source": []
  },
  {
   "cell_type": "code",
   "execution_count": null,
   "id": "fb1c35ce",
   "metadata": {},
   "outputs": [],
   "source": []
  },
  {
   "cell_type": "code",
   "execution_count": null,
   "id": "9bdea036",
   "metadata": {},
   "outputs": [],
   "source": []
  },
  {
   "cell_type": "code",
   "execution_count": null,
   "id": "8c0bd2d6",
   "metadata": {},
   "outputs": [],
   "source": []
  },
  {
   "cell_type": "code",
   "execution_count": null,
   "id": "fe75847f",
   "metadata": {},
   "outputs": [],
   "source": []
  },
  {
   "cell_type": "code",
   "execution_count": null,
   "id": "c649e10e",
   "metadata": {},
   "outputs": [],
   "source": []
  }
 ],
 "metadata": {
  "kernelspec": {
   "display_name": "Python 3",
   "language": "python",
   "name": "python3"
  },
  "language_info": {
   "codemirror_mode": {
    "name": "ipython",
    "version": 3
   },
   "file_extension": ".py",
   "mimetype": "text/x-python",
   "name": "python",
   "nbconvert_exporter": "python",
   "pygments_lexer": "ipython3",
   "version": "3.8.8"
  }
 },
 "nbformat": 4,
 "nbformat_minor": 5
}
